{
  "cells": [
    {
      "cell_type": "markdown",
      "metadata": {
        "id": "view-in-github",
        "colab_type": "text"
      },
      "source": [
        "<a href=\"https://colab.research.google.com/github/eglantine1982/unil-extraction-production-v2/blob/main/UNIL_Master_Etranger_Production_V25_%E2%9C%85.ipynb\" target=\"_parent\"><img src=\"https://colab.research.google.com/assets/colab-badge.svg\" alt=\"Open In Colab\"/></a>"
      ]
    },
    {
      "cell_type": "code",
      "execution_count": null,
      "id": "18cd1c52",
      "metadata": {
        "id": "18cd1c52",
        "outputId": "d15da092-a549-4649-fe1f-f80a94a62604",
        "colab": {
          "base_uri": "https://localhost:8080/"
        }
      },
      "outputs": [
        {
          "output_type": "stream",
          "name": "stdout",
          "text": [
            "Cloning into 'unil-extraction-production-v2'...\n",
            "remote: Enumerating objects: 65, done.\u001b[K\n",
            "remote: Counting objects: 100% (65/65), done.\u001b[K\n",
            "remote: Compressing objects: 100% (56/56), done.\u001b[K\n",
            "remote: Total 65 (delta 19), reused 0 (delta 0), pack-reused 0 (from 0)\u001b[K\n",
            "Receiving objects: 100% (65/65), 24.43 KiB | 4.07 MiB/s, done.\n",
            "Resolving deltas: 100% (19/19), done.\n",
            "/content/unil-extraction-production-v2\n",
            "Requirement already satisfied: requests in /usr/local/lib/python3.11/dist-packages (2.32.3)\n",
            "Requirement already satisfied: beautifulsoup4 in /usr/local/lib/python3.11/dist-packages (4.13.4)\n",
            "Requirement already satisfied: charset-normalizer<4,>=2 in /usr/local/lib/python3.11/dist-packages (from requests) (3.4.2)\n",
            "Requirement already satisfied: idna<4,>=2.5 in /usr/local/lib/python3.11/dist-packages (from requests) (3.10)\n",
            "Requirement already satisfied: urllib3<3,>=1.21.1 in /usr/local/lib/python3.11/dist-packages (from requests) (2.4.0)\n",
            "Requirement already satisfied: certifi>=2017.4.17 in /usr/local/lib/python3.11/dist-packages (from requests) (2025.4.26)\n",
            "Requirement already satisfied: soupsieve>1.2 in /usr/local/lib/python3.11/dist-packages (from beautifulsoup4) (2.7)\n",
            "Requirement already satisfied: typing-extensions>=4.0.0 in /usr/local/lib/python3.11/dist-packages (from beautifulsoup4) (4.14.0)\n"
          ]
        }
      ],
      "source": [
        "# 📥 Clonage du dépôt GitHub et installation des packages nécessaires\n",
        "\n",
        "!git clone https://github.com/eglantine1982/unil-extraction-production-v2.git\n",
        "\n",
        "%cd unil-extraction-production-v2\n",
        "\n",
        "!pip install requests beautifulsoup4"
      ]
    },
    {
      "cell_type": "code",
      "execution_count": null,
      "id": "216fb916",
      "metadata": {
        "id": "216fb916"
      },
      "outputs": [],
      "source": [
        "# 🧠 Chargement du fichier URLs + script principal\n",
        "\n",
        "import sys\n",
        "\n",
        "sys.path.append('/content/unil-extraction-production-v2/config')\n",
        "\n",
        "from urls_config import URLS_MASTER_ETRANGER\n",
        "\n",
        "\n",
        "\n",
        "# 📦 Chargement du script Python contenant toutes les fonctions (V25)\n",
        "\n",
        "contenu_extrait = {}\n",
        "\n",
        "exec(open('methodologies/master_etranger_v25.py').read())"
      ]
    },
    {
      "cell_type": "code",
      "source": [
        "# 💡 Cette cellule recharge le fichier Python que tu viens de modifier\n",
        "exec(open(\"methodologies/master_etranger_v25.py\").read())\n"
      ],
      "metadata": {
        "id": "inZsvVPI4ppr"
      },
      "id": "inZsvVPI4ppr",
      "execution_count": 8,
      "outputs": []
    },
    {
      "cell_type": "code",
      "source": [
        "# 🧠 Vérifie que ta fonction est bien chargée\n",
        "print(\"Fonction dispo ? ➡️\", 'phase_4_3_extraction_pages_filles' in globals())\n"
      ],
      "metadata": {
        "colab": {
          "base_uri": "https://localhost:8080/"
        },
        "id": "rS_4xoyK40RN",
        "outputId": "d3fb2e3a-cdd1-41a8-c98f-26b5d256056f"
      },
      "id": "rS_4xoyK40RN",
      "execution_count": 10,
      "outputs": [
        {
          "output_type": "stream",
          "name": "stdout",
          "text": [
            "Fonction dispo ? ➡️ False\n"
          ]
        }
      ]
    },
    {
      "cell_type": "code",
      "source": [],
      "metadata": {
        "id": "g3iCZO5a5xTO"
      },
      "id": "g3iCZO5a5xTO",
      "execution_count": null,
      "outputs": []
    },
    {
      "cell_type": "code",
      "source": [
        "%cd /content/unil-extraction-production-v2\n",
        "!git pull\n",
        "exec(open(\"methodologies/master_etranger_v25.py\").read())\n"
      ],
      "metadata": {
        "colab": {
          "base_uri": "https://localhost:8080/"
        },
        "id": "xtHCHhmM5wq2",
        "outputId": "937278af-a312-4061-9307-2deac27a9cba"
      },
      "id": "xtHCHhmM5wq2",
      "execution_count": 11,
      "outputs": [
        {
          "output_type": "stream",
          "name": "stdout",
          "text": [
            "/content/unil-extraction-production-v2\n",
            "remote: Enumerating objects: 15, done.\u001b[K\n",
            "remote: Counting objects: 100% (15/15), done.\u001b[K\n",
            "remote: Compressing objects: 100% (12/12), done.\u001b[K\n",
            "remote: Total 12 (delta 6), reused 0 (delta 0), pack-reused 0 (from 0)\u001b[K\n",
            "Unpacking objects: 100% (12/12), 3.65 KiB | 748.00 KiB/s, done.\n",
            "From https://github.com/eglantine1982/unil-extraction-production-v2\n",
            "   51b0e3c..a0e5e09  main       -> origin/main\n",
            "Updating 51b0e3c..a0e5e09\n",
            "Fast-forward\n",
            " methodologies/master_etranger_v25.py | 260 \u001b[32m+++++\u001b[m\u001b[31m------------------------------\u001b[m\n",
            " 1 file changed, 38 insertions(+), 222 deletions(-)\n"
          ]
        }
      ]
    },
    {
      "cell_type": "code",
      "source": [
        "# CODE 1 : Extraire les pages principales\n",
        "contenu_extrait, urls_deja_scrapees, erreurs = extraire_contenu_master_etranger()\n"
      ],
      "metadata": {
        "colab": {
          "base_uri": "https://localhost:8080/"
        },
        "id": "8Aaskhss6qCk",
        "outputId": "0674db20-36a8-4aab-c67b-9af523e2b089"
      },
      "id": "8Aaskhss6qCk",
      "execution_count": 14,
      "outputs": [
        {
          "output_type": "stream",
          "name": "stdout",
          "text": [
            "🚀 DÉMARRAGE EXTRACTION MASTER ÉTRANGER\n",
            "📋 12 pages à extraire\n",
            "\n",
            "🔄 Extraction delais: https://www.unil.ch/immat/fr/home/menuinst/futurs-etudiants/master/avec-un-bachelor-etranger/delais.html\n",
            "✅ 45,209 caractères extraits pour delais\n",
            "\n",
            "🔄 Extraction masters_generaux: https://www.unil.ch/unil/fr/home/menuinst/etudier/masters.html\n",
            "✅ 126,886 caractères extraits pour masters_generaux\n",
            "\n",
            "🔄 Extraction master_temps_partiel: https://www.unil.ch/immat/fr/home/menuinst/futurs-etudiants/master/avec-un-bachelor-etranger/master-a-temps-partiel.html\n",
            "✅ 81,965 caractères extraits pour master_temps_partiel\n",
            "\n",
            "🔄 Extraction taxe_administrative: https://www.unil.ch/immat/fr/home/menuinst/futurs-etudiants/master/avec-un-bachelor-etranger/taxe-administrative.html\n",
            "✅ 53,248 caractères extraits pour taxe_administrative\n",
            "\n",
            "🔄 Extraction permis_visa: https://www.unil.ch/immat/fr/home/menuinst/futurs-etudiants/master/avec-un-bachelor-etranger/permis-pour-etudes---visa.html\n",
            "✅ 68,811 caractères extraits pour permis_visa\n",
            "\n",
            "🔄 Extraction conditions_particulieres: https://www.unil.ch/immat/fr/home/menuinst/futurs-etudiants/master/avec-un-bachelor-etranger/conditions-particulieres.html\n",
            "✅ 131,115 caractères extraits pour conditions_particulieres\n",
            "\n",
            "🔄 Extraction deroulement_admission: https://www.unil.ch/immat/fr/home/menuinst/futurs-etudiants/master/avec-un-bachelor-etranger/deroulement-dune-admission.html\n",
            "✅ 90,635 caractères extraits pour deroulement_admission\n",
            "\n",
            "🔄 Extraction inscription_en_ligne: https://www.unil.ch/immat/fr/home/menuinst/futurs-etudiants/master/avec-un-bachelor-etranger/sinscrire-en-ligne-et-prepar.html\n",
            "✅ 63,782 caractères extraits pour inscription_en_ligne\n",
            "\n",
            "🔄 Extraction cours_francais: https://www.unil.ch/immat/fr/home/menuinst/futurs-etudiants/master/avec-un-bachelor-etranger/cours-satellites-et-cours-intensifs-de-francais.html\n",
            "✅ 60,543 caractères extraits pour cours_francais\n",
            "\n",
            "🔄 Extraction equivalences: https://www.unil.ch/immat/fr/home/menuinst/futurs-etudiants/master/avec-un-bachelor-etranger/equivalences.html\n",
            "✅ 53,598 caractères extraits pour equivalences\n",
            "\n",
            "🔄 Extraction medecine: https://www.unil.ch/immat/fr/home/menuinst/futurs-etudiants/medecine.html\n",
            "✅ 141,714 caractères extraits pour medecine\n",
            "\n",
            "🔄 Extraction droit_allemand: https://www.unil.ch/immat/fr/home/menuinst/futurs-etudiants/droit-allemand.html\n",
            "✅ 72,142 caractères extraits pour droit_allemand\n",
            "\n",
            "🎯 RÉSULTATS CODE 1:\n",
            "Pages extraites: 12\n",
            "Volume total: 989,648 caractères\n",
            "Erreurs: 0\n"
          ]
        }
      ]
    },
    {
      "cell_type": "code",
      "source": [
        "print(\"Fonction dispo ? ➡️\", 'phase_4_3_extraction_pages_filles' in globals())\n"
      ],
      "metadata": {
        "colab": {
          "base_uri": "https://localhost:8080/"
        },
        "id": "EyXeVj-N556K",
        "outputId": "b21c8ceb-3d2b-4e0d-c132-513a31848784"
      },
      "id": "EyXeVj-N556K",
      "execution_count": 12,
      "outputs": [
        {
          "output_type": "stream",
          "name": "stdout",
          "text": [
            "Fonction dispo ? ➡️ True\n"
          ]
        }
      ]
    },
    {
      "cell_type": "code",
      "execution_count": 15,
      "id": "e5b968fc",
      "metadata": {
        "id": "e5b968fc",
        "outputId": "2e2acbb2-2011-49d1-ab98-6c49a8bac42e",
        "colab": {
          "base_uri": "https://localhost:8080/"
        }
      },
      "outputs": [
        {
          "output_type": "stream",
          "name": "stdout",
          "text": [
            "🔍 Découverte automatique des sous-pages via regex...\n",
            "📌 0 nouvelles pages détectées automatiquement\n",
            "🔧 Intégration manuelle du contenu spécifique à la Chine\n",
            "🔒 Extraction page critique : https://www.unil.ch/immat/fr/home/menuinst/futurs-etudiants/sinscrire/delais-pour-le-depot-dune-candidature.html\n",
            "✅ 75,748 caractères extraits pour delais_pour_le_depot_dune_candidature\n",
            "🔒 Extraction page critique : https://www.unil.ch/immat/fr/home/menuinst/futurs-etudiants/sinscrire/taxe-administrative.html\n",
            "✅ 55,458 caractères extraits pour taxe_administrative\n",
            "🔒 Extraction page critique : https://www.unil.ch/immat/fr/home/menuinst/futurs-etudiants/sinscrire/nous-contacter.html\n",
            "✅ 60,724 caractères extraits pour nous_contacter\n",
            "✅ Phase 4.3 terminée : 15 pages au total.\n"
          ]
        }
      ],
      "source": [
        "# 🚀 Lancement de l'extraction (pages filles, hub, critiques, Chine...)\n",
        "\n",
        "contenu_extrait = phase_4_3_extraction_pages_filles(contenu_extrait, URLS_MASTER_ETRANGER)"
      ]
    },
    {
      "cell_type": "code",
      "source": [
        "# 💾 Sauvegarde dans outputs/ avec horodatage automatique\n",
        "import os\n",
        "from datetime import datetime\n",
        "\n",
        "now = datetime.now().strftime('%Y%m%d_%H%M%S')\n",
        "fichier = f\"outputs/master_etranger_extraction_{now}.txt\"\n",
        "\n",
        "os.makedirs(\"outputs\", exist_ok=True)\n",
        "\n",
        "with open(fichier, \"w\", encoding=\"utf-8\") as f:\n",
        "    for nom, texte in contenu_extrait.items():\n",
        "        f.write(f\"===== {nom.upper()} =====\\n{texte}\\n\\n\")\n",
        "\n",
        "print(f\"✅ Fichier sauvegardé : {fichier}\")\n"
      ],
      "metadata": {
        "colab": {
          "base_uri": "https://localhost:8080/"
        },
        "id": "0Nt7vb3h7P1Z",
        "outputId": "b1bc8b2e-08bc-4cfd-c32a-d2e82791be7a"
      },
      "id": "0Nt7vb3h7P1Z",
      "execution_count": 16,
      "outputs": [
        {
          "output_type": "stream",
          "name": "stdout",
          "text": [
            "✅ Fichier sauvegardé : outputs/master_etranger_extraction_20250612_113608.txt\n"
          ]
        }
      ]
    },
    {
      "cell_type": "code",
      "source": [
        "# 💡 Cette cellule recharge le fichier Python que tu viens de modifier\n",
        "exec(open(\"methodologies/master_etranger_v25.py\").read())\n"
      ],
      "metadata": {
        "id": "BmbEP9Jj4lja"
      },
      "id": "BmbEP9Jj4lja",
      "execution_count": 6,
      "outputs": []
    },
    {
      "cell_type": "code",
      "source": [
        "# 🔍 Validation finale : vérification du volume extrait\n",
        "\n",
        "total_caracteres = sum(len(txt) for txt in contenu_extrait.values())\n",
        "print(f\"📊 Volume total extrait : {total_caracteres:,} caractères\")\n",
        "print(f\"✅ Nombre de pages : {len(contenu_extrait)}\")\n",
        "\n",
        "assert total_caracteres > 60000, \"⚠️ Le volume est trop faible, vérifie les pages manquantes.\"\n",
        "print(\"🎯 Objectif minimum atteint ✔️\")\n"
      ],
      "metadata": {
        "colab": {
          "base_uri": "https://localhost:8080/"
        },
        "id": "7ButPkRx8rG_",
        "outputId": "0b641cf1-0441-4753-9e96-208f1d28a966"
      },
      "id": "7ButPkRx8rG_",
      "execution_count": 18,
      "outputs": [
        {
          "output_type": "stream",
          "name": "stdout",
          "text": [
            "📊 Volume total extrait : 1,128,371 caractères\n",
            "✅ Nombre de pages : 15\n",
            "🎯 Objectif minimum atteint ✔️\n"
          ]
        }
      ]
    },
    {
      "cell_type": "code",
      "execution_count": null,
      "id": "1e2180fd",
      "metadata": {
        "id": "1e2180fd"
      },
      "outputs": [],
      "source": [
        "# 💾 Sauvegarde dans outputs/ avec horodatage automatique\n",
        "\n",
        "import os\n",
        "\n",
        "from datetime import datetime\n",
        "\n",
        "now = datetime.now().strftime('%Y%m%d_%H%M%S')\n",
        "\n",
        "fichier = f\"outputs/master_etranger_extraction_{now}.txt\"\n",
        "\n",
        "\n",
        "\n",
        "os.makedirs(\"outputs\", exist_ok=True)\n",
        "\n",
        "with open(fichier, \"w\", encoding=\"utf-8\") as f:\n",
        "\n",
        "    for nom, texte in contenu_extrait.items():\n",
        "\n",
        "        f.write(f\"===== {nom.upper()} =====\\n{texte}\\n\\n\")\n",
        "\n",
        "print(f\"✅ Fichier sauvegardé : {fichier}\")"
      ]
    },
    {
      "cell_type": "code",
      "execution_count": null,
      "id": "e0a0d69b",
      "metadata": {
        "id": "e0a0d69b"
      },
      "outputs": [],
      "source": [
        "# 🔍 Validation finale : vérification du volume extrait\n",
        "\n",
        "total_caracteres = sum(len(txt) for txt in contenu_extrait.values())\n",
        "\n",
        "print(f\"📊 Volume total extrait : {total_caracteres:,} caractères\")\n",
        "\n",
        "print(f\"✅ Nombre de pages : {len(contenu_extrait)}\")\n",
        "\n",
        "assert total_caracteres > 60000, \"⚠️ Le volume est trop faible, vérifie les pages manquantes.\"\n",
        "\n",
        "print(\"🎯 Objectif minimum atteint ✔️\")"
      ]
    }
  ],
  "metadata": {
    "colab": {
      "provenance": [],
      "include_colab_link": true
    },
    "language_info": {
      "name": "python"
    },
    "kernelspec": {
      "name": "python3",
      "display_name": "Python 3"
    }
  },
  "nbformat": 4,
  "nbformat_minor": 5
}